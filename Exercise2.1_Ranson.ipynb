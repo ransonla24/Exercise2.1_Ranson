{
 "cells": [
  {
   "cell_type": "markdown",
   "metadata": {},
   "source": [
    "## Exercises\n",
    "### Write the pseudocode for these problems. \n",
    "\n",
    "#### Define the problem by constructing an IPO diagram showing input, output, and processing steps\n",
    "Ask yourself\n",
    "- What control structures (sequence, selection and repetition) are required?\n",
    "- What variables are required?\n",
    "\n",
    "Show a check of your solution with **test data** for at least **two valid test cases**\n",
    "If you use the numbers provided in the example then the correct pseudocode will calculate the same result.\n",
    "    "
   ]
  },
  {
   "cell_type": "markdown",
   "metadata": {},
   "source": [
    "#### 1. Find the average score\n",
    "A program is needed to prompt the user operator for exam scores, calculate the average score and display the result to the screen. The average score is calculated as the sum of the scores divided by the number of scores."
   ]
  },
  {
   "cell_type": "markdown",
   "metadata": {},
   "source": [
    "BEGIN\n",
    "    SET COUNTER TO 1\n",
    "    SET TOTAL TO 0\n",
    "    LOOP COUNTER\n",
    "        PROMPT USER FOR EXAM SCORE \n",
    "        GET EXAM SCORE\n",
    "        IF EXAM SCORE IS > 0\n",
    "            ADD EXAM SCORE TO TOTAL\n",
    "        ENDIF \n",
    "            EXAM SCORE = 0\n",
    "    ENDLOOP\n",
    "    AVERAGE = DIVIDE TOTAL BY COUNTER\n",
    "    PRINT AVERAGE\n",
    "END"
   ]
  },
  {
   "cell_type": "markdown",
   "metadata": {},
   "source": [
    "#### 2. How much water runs off a roof in a rain storm?\n",
    "To calculate the runoff from any given rainfall: Take the dimensions of the footprint of the roof and convert them to inches. (So, a 50' x 20' roof is 600\" x 240\"). Multiply the roof dimensions by the number of inches of rainfall. As an example, 600\" x 240\" x 1\" = 144,000 cubic inches of water for an inch of rainfall. Divide that result by 231 to get the number of gallons (because 1 gallon = 231 cubic inches). (144,000/231 = 623.38)."
   ]
  },
  {
   "cell_type": "markdown",
   "metadata": {},
   "source": [
    "BEGIN \n",
    "    LOOP COUNTER \n",
    "        PROMPT USER FOR WIDTH = W\n",
    "        PROMPT USER FOR LENGTH = L\n",
    "        IF W>0 AND L> 0\n",
    "            GALLONS = W*L/231\n",
    "        ENDIF\n",
    "            W=0 OR L=0\n",
    "    ENDLOOP \n",
    "    PRINT GALLONS\n",
    "END "
   ]
  },
  {
   "cell_type": "markdown",
   "metadata": {},
   "source": [
    "#### 3. Process customer record\n",
    "A program is required to read a customer’s name, a purchase amount and a tax code. The tax code has been validated and will be one of the following: 0 tax exempt (0%) 1 state sales tax only (3%) 2 federal and state sales tax (5%) 3 special sales tax (7%) The program must then compute the sales tax and the total amount due,and print the customer’s name, purchase amount, sales tax and total amount due."
   ]
  },
  {
   "cell_type": "markdown",
   "metadata": {},
   "source": [
    "BEGIN \n",
    "    PROMPT USER FOR CUSTOMER NAME, PURCHASE AMOUNT, TAX CODE NUMBER\n",
    "    PRINT CUSTOMER NAME, PURCHASE AMOUNT, SALES TAX, TOTAL AMOUNT DUE"
   ]
  },
  {
   "cell_type": "markdown",
   "metadata": {},
   "source": [
    "#### 4. Calculate employee's pay \n",
    "A program is required by a company to read an employee’s number, pay rate and the number of hours worked in a week. The program is then to validate the pay rate field and the hours worked field and, if valid, compute the employee’s weekly pay and then print it and the input data.\n",
    "\n",
    "Validation: According to the company’s rules, the maximum hours an employee can work per week is 60 hours, and the maximum hourly rate is $25.00 per hour. If the hours worked field or the hourly rate field is out of range, the input data and an appropriate message are to be printed and the employee’s weekly pay is not to be calculated.\n",
    "\n",
    "Weekly pay calculation: Weekly pay is calculated as hours worked times pay rate. If more than 35 hours are worked, payment for the overtime hours worked is calculated at time-and-a-half."
   ]
  },
  {
   "cell_type": "markdown",
   "metadata": {},
   "source": [
    "BEGIN\n",
    "    HOURS WORKED = X\n",
    "    PAY RATE = Y\n",
    "    SET COUNTER TO 1\n",
    "    SET TOTAL TO 0\n",
    "    LOOP COUNTER\n",
    "        IF X <= 60 AND Y <= 25\n",
    "            MULTIPLY 60*25 AND ADD TO TOTAL \n",
    "        ENDIF\n",
    "        X > 60 OR Y > 25\n",
    "    ENDLOOP\n",
    "    PRINT TOTAL \n",
    "END"
   ]
  }
 ],
 "metadata": {
  "kernelspec": {
   "display_name": "Python 3 (ipykernel)",
   "language": "python",
   "name": "python3"
  },
  "language_info": {
   "codemirror_mode": {
    "name": "ipython",
    "version": 3
   },
   "file_extension": ".py",
   "mimetype": "text/x-python",
   "name": "python",
   "nbconvert_exporter": "python",
   "pygments_lexer": "ipython3",
   "version": "3.11.7"
  }
 },
 "nbformat": 4,
 "nbformat_minor": 4
}
